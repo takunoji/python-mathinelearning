{
 "cells": [
  {
   "cell_type": "code",
   "execution_count": 1,
   "id": "0cc04ea4",
   "metadata": {},
   "outputs": [],
   "source": [
    "import numpy as np\n",
    "import pandas as pd"
   ]
  },
  {
   "cell_type": "code",
   "execution_count": 3,
   "id": "7f3e449a",
   "metadata": {},
   "outputs": [],
   "source": [
    "from sklearn.datasets import load_breast_cancer"
   ]
  },
  {
   "cell_type": "code",
   "execution_count": 5,
   "id": "78362624",
   "metadata": {},
   "outputs": [],
   "source": [
    "dataset = load_breast_cancer()"
   ]
  },
  {
   "cell_type": "code",
   "execution_count": 9,
   "id": "7fcf3958",
   "metadata": {},
   "outputs": [],
   "source": [
    "t = dataset.target\n",
    "x = dataset.data"
   ]
  },
  {
   "cell_type": "code",
   "execution_count": 10,
   "id": "79c356a7",
   "metadata": {},
   "outputs": [
    {
     "data": {
      "text/plain": [
       "((569, 30), (569,))"
      ]
     },
     "execution_count": 10,
     "metadata": {},
     "output_type": "execute_result"
    }
   ],
   "source": [
    "x.shape, t.shape"
   ]
  },
  {
   "cell_type": "code",
   "execution_count": 11,
   "id": "9bee36c6",
   "metadata": {},
   "outputs": [],
   "source": [
    "from sklearn.model_selection import train_test_split"
   ]
  },
  {
   "cell_type": "code",
   "execution_count": 12,
   "id": "2b451207",
   "metadata": {},
   "outputs": [],
   "source": [
    "x_train_val, x_test, t_train_val, t_test = train_test_split(x,t,test_size=0.2,random_state=1)"
   ]
  },
  {
   "cell_type": "code",
   "execution_count": 13,
   "id": "4ddb8064",
   "metadata": {},
   "outputs": [],
   "source": [
    "x_train, x_val, t_train, t_val = train_test_split(x_train_val,t_train_val,test_size=0.3,random_state=1)"
   ]
  },
  {
   "cell_type": "code",
   "execution_count": 16,
   "id": "9a1718e8",
   "metadata": {},
   "outputs": [
    {
     "data": {
      "text/plain": [
       "((318, 30), (137, 30), (114, 30))"
      ]
     },
     "execution_count": 16,
     "metadata": {},
     "output_type": "execute_result"
    }
   ],
   "source": [
    "x_train.shape,x_val.shape,x_test.shape"
   ]
  },
  {
   "cell_type": "code",
   "execution_count": 19,
   "id": "207e5f54",
   "metadata": {},
   "outputs": [],
   "source": [
    "from sklearn.tree import DecisionTreeClassifier"
   ]
  },
  {
   "cell_type": "code",
   "execution_count": 24,
   "id": "0fb347ae",
   "metadata": {},
   "outputs": [],
   "source": [
    "dtree = DecisionTreeClassifier(max_depth=10,min_samples_split=30, random_state=0)"
   ]
  },
  {
   "cell_type": "code",
   "execution_count": 25,
   "id": "70d00ced",
   "metadata": {},
   "outputs": [
    {
     "data": {
      "text/plain": [
       "DecisionTreeClassifier(max_depth=10, min_samples_split=30, random_state=0)"
      ]
     },
     "execution_count": 25,
     "metadata": {},
     "output_type": "execute_result"
    }
   ],
   "source": [
    "dtree.fit(x_train, t_train)"
   ]
  },
  {
   "cell_type": "code",
   "execution_count": 26,
   "id": "b5a07310",
   "metadata": {},
   "outputs": [
    {
     "name": "stdout",
     "output_type": "stream",
     "text": [
      "train score: 0.9308176100628931\n",
      "val score: 0.9562043795620438\n"
     ]
    }
   ],
   "source": [
    "print(f'train score: {dtree.score(x_train, t_train)}')\n",
    "print(f'val score: {dtree.score(x_val, t_val)}')"
   ]
  },
  {
   "cell_type": "code",
   "execution_count": 27,
   "id": "2f5d6397",
   "metadata": {},
   "outputs": [
    {
     "name": "stdout",
     "output_type": "stream",
     "text": [
      "test score: 0.9298245614035088\n"
     ]
    }
   ],
   "source": [
    "print(f'test score: {dtree.score(x_test, t_test)}')"
   ]
  },
  {
   "cell_type": "code",
   "execution_count": 28,
   "id": "e96c5139",
   "metadata": {},
   "outputs": [],
   "source": [
    "from sklearn.model_selection import GridSearchCV"
   ]
  },
  {
   "cell_type": "code",
   "execution_count": 34,
   "id": "930fde14",
   "metadata": {},
   "outputs": [],
   "source": [
    "estimator = DecisionTreeClassifier(random_state=0)"
   ]
  },
  {
   "cell_type": "code",
   "execution_count": 38,
   "id": "9a922341",
   "metadata": {},
   "outputs": [],
   "source": [
    "param_grid =[\n",
    "    {'max_depth':[3,20,50]},\n",
    "    {'min_samples_split':[3,20,30]},\n",
    "             ]"
   ]
  },
  {
   "cell_type": "code",
   "execution_count": 39,
   "id": "b58df92a",
   "metadata": {},
   "outputs": [],
   "source": [
    "cv = 5"
   ]
  },
  {
   "cell_type": "code",
   "execution_count": 41,
   "id": "81c4c303",
   "metadata": {},
   "outputs": [],
   "source": [
    "tuned_model= GridSearchCV(estimator=estimator,\n",
    "                          param_grid=param_grid,\n",
    "                          cv=cv, \n",
    "                          return_train_score=False\n",
    "                         )"
   ]
  },
  {
   "cell_type": "code",
   "execution_count": 42,
   "id": "04e01f3f",
   "metadata": {},
   "outputs": [
    {
     "data": {
      "text/plain": [
       "GridSearchCV(cv=5, estimator=DecisionTreeClassifier(random_state=0),\n",
       "             param_grid=[{'max_depth': [3, 20, 50]},\n",
       "                         {'min_samples_split': [3, 20, 30]}])"
      ]
     },
     "execution_count": 42,
     "metadata": {},
     "output_type": "execute_result"
    }
   ],
   "source": [
    "tuned_model"
   ]
  },
  {
   "cell_type": "code",
   "execution_count": 44,
   "id": "6baa56b1",
   "metadata": {},
   "outputs": [
    {
     "data": {
      "text/plain": [
       "GridSearchCV(cv=5, estimator=DecisionTreeClassifier(random_state=0),\n",
       "             param_grid=[{'max_depth': [3, 20, 50]},\n",
       "                         {'min_samples_split': [3, 20, 30]}])"
      ]
     },
     "execution_count": 44,
     "metadata": {},
     "output_type": "execute_result"
    }
   ],
   "source": [
    "tuned_model.fit(x_train_val,t_train_val)"
   ]
  },
  {
   "cell_type": "code",
   "execution_count": 45,
   "id": "f2fe37a2",
   "metadata": {},
   "outputs": [
    {
     "data": {
      "text/html": [
       "<div>\n",
       "<style scoped>\n",
       "    .dataframe tbody tr th:only-of-type {\n",
       "        vertical-align: middle;\n",
       "    }\n",
       "\n",
       "    .dataframe tbody tr th {\n",
       "        vertical-align: top;\n",
       "    }\n",
       "\n",
       "    .dataframe thead th {\n",
       "        text-align: right;\n",
       "    }\n",
       "</style>\n",
       "<table border=\"1\" class=\"dataframe\">\n",
       "  <thead>\n",
       "    <tr style=\"text-align: right;\">\n",
       "      <th></th>\n",
       "      <th>0</th>\n",
       "      <th>1</th>\n",
       "      <th>2</th>\n",
       "      <th>3</th>\n",
       "      <th>4</th>\n",
       "      <th>5</th>\n",
       "    </tr>\n",
       "  </thead>\n",
       "  <tbody>\n",
       "    <tr>\n",
       "      <th>mean_fit_time</th>\n",
       "      <td>0.009212</td>\n",
       "      <td>0.01049</td>\n",
       "      <td>0.008804</td>\n",
       "      <td>0.006599</td>\n",
       "      <td>0.005194</td>\n",
       "      <td>0.004807</td>\n",
       "    </tr>\n",
       "    <tr>\n",
       "      <th>std_fit_time</th>\n",
       "      <td>0.000395</td>\n",
       "      <td>0.000769</td>\n",
       "      <td>0.001718</td>\n",
       "      <td>0.0008</td>\n",
       "      <td>0.000403</td>\n",
       "      <td>0.000401</td>\n",
       "    </tr>\n",
       "    <tr>\n",
       "      <th>mean_score_time</th>\n",
       "      <td>0.000994</td>\n",
       "      <td>0.001</td>\n",
       "      <td>0.000996</td>\n",
       "      <td>0.000602</td>\n",
       "      <td>0.000201</td>\n",
       "      <td>0.000398</td>\n",
       "    </tr>\n",
       "    <tr>\n",
       "      <th>std_score_time</th>\n",
       "      <td>0.000005</td>\n",
       "      <td>0.000002</td>\n",
       "      <td>0.000005</td>\n",
       "      <td>0.000492</td>\n",
       "      <td>0.000402</td>\n",
       "      <td>0.000488</td>\n",
       "    </tr>\n",
       "    <tr>\n",
       "      <th>param_max_depth</th>\n",
       "      <td>3</td>\n",
       "      <td>20</td>\n",
       "      <td>50</td>\n",
       "      <td>NaN</td>\n",
       "      <td>NaN</td>\n",
       "      <td>NaN</td>\n",
       "    </tr>\n",
       "    <tr>\n",
       "      <th>param_min_samples_split</th>\n",
       "      <td>NaN</td>\n",
       "      <td>NaN</td>\n",
       "      <td>NaN</td>\n",
       "      <td>3</td>\n",
       "      <td>20</td>\n",
       "      <td>30</td>\n",
       "    </tr>\n",
       "    <tr>\n",
       "      <th>params</th>\n",
       "      <td>{'max_depth': 3}</td>\n",
       "      <td>{'max_depth': 20}</td>\n",
       "      <td>{'max_depth': 50}</td>\n",
       "      <td>{'min_samples_split': 3}</td>\n",
       "      <td>{'min_samples_split': 20}</td>\n",
       "      <td>{'min_samples_split': 30}</td>\n",
       "    </tr>\n",
       "    <tr>\n",
       "      <th>split0_test_score</th>\n",
       "      <td>0.923077</td>\n",
       "      <td>0.956044</td>\n",
       "      <td>0.956044</td>\n",
       "      <td>0.956044</td>\n",
       "      <td>0.912088</td>\n",
       "      <td>0.912088</td>\n",
       "    </tr>\n",
       "    <tr>\n",
       "      <th>split1_test_score</th>\n",
       "      <td>0.901099</td>\n",
       "      <td>0.912088</td>\n",
       "      <td>0.912088</td>\n",
       "      <td>0.912088</td>\n",
       "      <td>0.901099</td>\n",
       "      <td>0.901099</td>\n",
       "    </tr>\n",
       "    <tr>\n",
       "      <th>split2_test_score</th>\n",
       "      <td>0.934066</td>\n",
       "      <td>0.923077</td>\n",
       "      <td>0.923077</td>\n",
       "      <td>0.923077</td>\n",
       "      <td>0.934066</td>\n",
       "      <td>0.934066</td>\n",
       "    </tr>\n",
       "    <tr>\n",
       "      <th>split3_test_score</th>\n",
       "      <td>0.945055</td>\n",
       "      <td>0.967033</td>\n",
       "      <td>0.967033</td>\n",
       "      <td>0.967033</td>\n",
       "      <td>0.945055</td>\n",
       "      <td>0.945055</td>\n",
       "    </tr>\n",
       "    <tr>\n",
       "      <th>split4_test_score</th>\n",
       "      <td>0.901099</td>\n",
       "      <td>0.956044</td>\n",
       "      <td>0.956044</td>\n",
       "      <td>0.956044</td>\n",
       "      <td>0.934066</td>\n",
       "      <td>0.901099</td>\n",
       "    </tr>\n",
       "    <tr>\n",
       "      <th>mean_test_score</th>\n",
       "      <td>0.920879</td>\n",
       "      <td>0.942857</td>\n",
       "      <td>0.942857</td>\n",
       "      <td>0.942857</td>\n",
       "      <td>0.925275</td>\n",
       "      <td>0.918681</td>\n",
       "    </tr>\n",
       "    <tr>\n",
       "      <th>std_test_score</th>\n",
       "      <td>0.017582</td>\n",
       "      <td>0.021308</td>\n",
       "      <td>0.021308</td>\n",
       "      <td>0.021308</td>\n",
       "      <td>0.01615</td>\n",
       "      <td>0.017855</td>\n",
       "    </tr>\n",
       "    <tr>\n",
       "      <th>rank_test_score</th>\n",
       "      <td>5</td>\n",
       "      <td>1</td>\n",
       "      <td>1</td>\n",
       "      <td>1</td>\n",
       "      <td>4</td>\n",
       "      <td>6</td>\n",
       "    </tr>\n",
       "  </tbody>\n",
       "</table>\n",
       "</div>"
      ],
      "text/plain": [
       "                                        0                  1  \\\n",
       "mean_fit_time                    0.009212            0.01049   \n",
       "std_fit_time                     0.000395           0.000769   \n",
       "mean_score_time                  0.000994              0.001   \n",
       "std_score_time                   0.000005           0.000002   \n",
       "param_max_depth                         3                 20   \n",
       "param_min_samples_split               NaN                NaN   \n",
       "params                   {'max_depth': 3}  {'max_depth': 20}   \n",
       "split0_test_score                0.923077           0.956044   \n",
       "split1_test_score                0.901099           0.912088   \n",
       "split2_test_score                0.934066           0.923077   \n",
       "split3_test_score                0.945055           0.967033   \n",
       "split4_test_score                0.901099           0.956044   \n",
       "mean_test_score                  0.920879           0.942857   \n",
       "std_test_score                   0.017582           0.021308   \n",
       "rank_test_score                         5                  1   \n",
       "\n",
       "                                         2                         3  \\\n",
       "mean_fit_time                     0.008804                  0.006599   \n",
       "std_fit_time                      0.001718                    0.0008   \n",
       "mean_score_time                   0.000996                  0.000602   \n",
       "std_score_time                    0.000005                  0.000492   \n",
       "param_max_depth                         50                       NaN   \n",
       "param_min_samples_split                NaN                         3   \n",
       "params                   {'max_depth': 50}  {'min_samples_split': 3}   \n",
       "split0_test_score                 0.956044                  0.956044   \n",
       "split1_test_score                 0.912088                  0.912088   \n",
       "split2_test_score                 0.923077                  0.923077   \n",
       "split3_test_score                 0.967033                  0.967033   \n",
       "split4_test_score                 0.956044                  0.956044   \n",
       "mean_test_score                   0.942857                  0.942857   \n",
       "std_test_score                    0.021308                  0.021308   \n",
       "rank_test_score                          1                         1   \n",
       "\n",
       "                                                 4                          5  \n",
       "mean_fit_time                             0.005194                   0.004807  \n",
       "std_fit_time                              0.000403                   0.000401  \n",
       "mean_score_time                           0.000201                   0.000398  \n",
       "std_score_time                            0.000402                   0.000488  \n",
       "param_max_depth                                NaN                        NaN  \n",
       "param_min_samples_split                         20                         30  \n",
       "params                   {'min_samples_split': 20}  {'min_samples_split': 30}  \n",
       "split0_test_score                         0.912088                   0.912088  \n",
       "split1_test_score                         0.901099                   0.901099  \n",
       "split2_test_score                         0.934066                   0.934066  \n",
       "split3_test_score                         0.945055                   0.945055  \n",
       "split4_test_score                         0.934066                   0.901099  \n",
       "mean_test_score                           0.925275                   0.918681  \n",
       "std_test_score                             0.01615                   0.017855  \n",
       "rank_test_score                                  4                          6  "
      ]
     },
     "execution_count": 45,
     "metadata": {},
     "output_type": "execute_result"
    }
   ],
   "source": [
    "pd.DataFrame(tuned_model.cv_results_).T"
   ]
  },
  {
   "cell_type": "code",
   "execution_count": 46,
   "id": "897a4fd0",
   "metadata": {},
   "outputs": [],
   "source": [
    "param_grid =[\n",
    "    {'max_depth':[5,10,15]},\n",
    "    {'min_samples_split':[10,12,15]},\n",
    "             ]"
   ]
  },
  {
   "cell_type": "code",
   "execution_count": 47,
   "id": "e5ce6e13",
   "metadata": {},
   "outputs": [],
   "source": [
    "cv = 5"
   ]
  },
  {
   "cell_type": "code",
   "execution_count": 49,
   "id": "316e4b9a",
   "metadata": {},
   "outputs": [],
   "source": [
    "tuned_model= GridSearchCV(estimator=estimator,\n",
    "                          param_grid=param_grid,\n",
    "                          cv=cv, \n",
    "                          return_train_score=False\n",
    "                         )"
   ]
  },
  {
   "cell_type": "code",
   "execution_count": 50,
   "id": "8853729c",
   "metadata": {},
   "outputs": [
    {
     "data": {
      "text/plain": [
       "GridSearchCV(cv=5, estimator=DecisionTreeClassifier(random_state=0),\n",
       "             param_grid=[{'max_depth': [5, 10, 15]},\n",
       "                         {'min_samples_split': [10, 12, 15]}])"
      ]
     },
     "execution_count": 50,
     "metadata": {},
     "output_type": "execute_result"
    }
   ],
   "source": [
    "tuned_model.fit(x_train_val,t_train_val)"
   ]
  },
  {
   "cell_type": "code",
   "execution_count": 51,
   "id": "305877bc",
   "metadata": {},
   "outputs": [
    {
     "data": {
      "text/html": [
       "<div>\n",
       "<style scoped>\n",
       "    .dataframe tbody tr th:only-of-type {\n",
       "        vertical-align: middle;\n",
       "    }\n",
       "\n",
       "    .dataframe tbody tr th {\n",
       "        vertical-align: top;\n",
       "    }\n",
       "\n",
       "    .dataframe thead th {\n",
       "        text-align: right;\n",
       "    }\n",
       "</style>\n",
       "<table border=\"1\" class=\"dataframe\">\n",
       "  <thead>\n",
       "    <tr style=\"text-align: right;\">\n",
       "      <th></th>\n",
       "      <th>0</th>\n",
       "      <th>1</th>\n",
       "      <th>2</th>\n",
       "      <th>3</th>\n",
       "      <th>4</th>\n",
       "      <th>5</th>\n",
       "    </tr>\n",
       "  </thead>\n",
       "  <tbody>\n",
       "    <tr>\n",
       "      <th>mean_fit_time</th>\n",
       "      <td>0.005797</td>\n",
       "      <td>0.005197</td>\n",
       "      <td>0.004</td>\n",
       "      <td>0.004199</td>\n",
       "      <td>0.003799</td>\n",
       "      <td>0.003799</td>\n",
       "    </tr>\n",
       "    <tr>\n",
       "      <th>std_fit_time</th>\n",
       "      <td>0.000753</td>\n",
       "      <td>0.001166</td>\n",
       "      <td>0.000001</td>\n",
       "      <td>0.000401</td>\n",
       "      <td>0.000399</td>\n",
       "      <td>0.0004</td>\n",
       "    </tr>\n",
       "    <tr>\n",
       "      <th>mean_score_time</th>\n",
       "      <td>0.000401</td>\n",
       "      <td>0.0006</td>\n",
       "      <td>0.0002</td>\n",
       "      <td>0.0002</td>\n",
       "      <td>0.000401</td>\n",
       "      <td>0.000401</td>\n",
       "    </tr>\n",
       "    <tr>\n",
       "      <th>std_score_time</th>\n",
       "      <td>0.000492</td>\n",
       "      <td>0.00049</td>\n",
       "      <td>0.0004</td>\n",
       "      <td>0.0004</td>\n",
       "      <td>0.000492</td>\n",
       "      <td>0.000492</td>\n",
       "    </tr>\n",
       "    <tr>\n",
       "      <th>param_max_depth</th>\n",
       "      <td>5</td>\n",
       "      <td>10</td>\n",
       "      <td>15</td>\n",
       "      <td>NaN</td>\n",
       "      <td>NaN</td>\n",
       "      <td>NaN</td>\n",
       "    </tr>\n",
       "    <tr>\n",
       "      <th>param_min_samples_split</th>\n",
       "      <td>NaN</td>\n",
       "      <td>NaN</td>\n",
       "      <td>NaN</td>\n",
       "      <td>10</td>\n",
       "      <td>12</td>\n",
       "      <td>15</td>\n",
       "    </tr>\n",
       "    <tr>\n",
       "      <th>params</th>\n",
       "      <td>{'max_depth': 5}</td>\n",
       "      <td>{'max_depth': 10}</td>\n",
       "      <td>{'max_depth': 15}</td>\n",
       "      <td>{'min_samples_split': 10}</td>\n",
       "      <td>{'min_samples_split': 12}</td>\n",
       "      <td>{'min_samples_split': 15}</td>\n",
       "    </tr>\n",
       "    <tr>\n",
       "      <th>split0_test_score</th>\n",
       "      <td>0.956044</td>\n",
       "      <td>0.956044</td>\n",
       "      <td>0.956044</td>\n",
       "      <td>0.967033</td>\n",
       "      <td>0.923077</td>\n",
       "      <td>0.912088</td>\n",
       "    </tr>\n",
       "    <tr>\n",
       "      <th>split1_test_score</th>\n",
       "      <td>0.912088</td>\n",
       "      <td>0.912088</td>\n",
       "      <td>0.912088</td>\n",
       "      <td>0.912088</td>\n",
       "      <td>0.901099</td>\n",
       "      <td>0.901099</td>\n",
       "    </tr>\n",
       "    <tr>\n",
       "      <th>split2_test_score</th>\n",
       "      <td>0.923077</td>\n",
       "      <td>0.923077</td>\n",
       "      <td>0.923077</td>\n",
       "      <td>0.923077</td>\n",
       "      <td>0.934066</td>\n",
       "      <td>0.934066</td>\n",
       "    </tr>\n",
       "    <tr>\n",
       "      <th>split3_test_score</th>\n",
       "      <td>0.945055</td>\n",
       "      <td>0.967033</td>\n",
       "      <td>0.967033</td>\n",
       "      <td>0.956044</td>\n",
       "      <td>0.956044</td>\n",
       "      <td>0.945055</td>\n",
       "    </tr>\n",
       "    <tr>\n",
       "      <th>split4_test_score</th>\n",
       "      <td>0.967033</td>\n",
       "      <td>0.956044</td>\n",
       "      <td>0.956044</td>\n",
       "      <td>0.967033</td>\n",
       "      <td>0.967033</td>\n",
       "      <td>0.934066</td>\n",
       "    </tr>\n",
       "    <tr>\n",
       "      <th>mean_test_score</th>\n",
       "      <td>0.940659</td>\n",
       "      <td>0.942857</td>\n",
       "      <td>0.942857</td>\n",
       "      <td>0.945055</td>\n",
       "      <td>0.936264</td>\n",
       "      <td>0.925275</td>\n",
       "    </tr>\n",
       "    <tr>\n",
       "      <th>std_test_score</th>\n",
       "      <td>0.020382</td>\n",
       "      <td>0.021308</td>\n",
       "      <td>0.021308</td>\n",
       "      <td>0.023051</td>\n",
       "      <td>0.023466</td>\n",
       "      <td>0.01615</td>\n",
       "    </tr>\n",
       "    <tr>\n",
       "      <th>rank_test_score</th>\n",
       "      <td>4</td>\n",
       "      <td>2</td>\n",
       "      <td>2</td>\n",
       "      <td>1</td>\n",
       "      <td>5</td>\n",
       "      <td>6</td>\n",
       "    </tr>\n",
       "  </tbody>\n",
       "</table>\n",
       "</div>"
      ],
      "text/plain": [
       "                                        0                  1  \\\n",
       "mean_fit_time                    0.005797           0.005197   \n",
       "std_fit_time                     0.000753           0.001166   \n",
       "mean_score_time                  0.000401             0.0006   \n",
       "std_score_time                   0.000492            0.00049   \n",
       "param_max_depth                         5                 10   \n",
       "param_min_samples_split               NaN                NaN   \n",
       "params                   {'max_depth': 5}  {'max_depth': 10}   \n",
       "split0_test_score                0.956044           0.956044   \n",
       "split1_test_score                0.912088           0.912088   \n",
       "split2_test_score                0.923077           0.923077   \n",
       "split3_test_score                0.945055           0.967033   \n",
       "split4_test_score                0.967033           0.956044   \n",
       "mean_test_score                  0.940659           0.942857   \n",
       "std_test_score                   0.020382           0.021308   \n",
       "rank_test_score                         4                  2   \n",
       "\n",
       "                                         2                          3  \\\n",
       "mean_fit_time                        0.004                   0.004199   \n",
       "std_fit_time                      0.000001                   0.000401   \n",
       "mean_score_time                     0.0002                     0.0002   \n",
       "std_score_time                      0.0004                     0.0004   \n",
       "param_max_depth                         15                        NaN   \n",
       "param_min_samples_split                NaN                         10   \n",
       "params                   {'max_depth': 15}  {'min_samples_split': 10}   \n",
       "split0_test_score                 0.956044                   0.967033   \n",
       "split1_test_score                 0.912088                   0.912088   \n",
       "split2_test_score                 0.923077                   0.923077   \n",
       "split3_test_score                 0.967033                   0.956044   \n",
       "split4_test_score                 0.956044                   0.967033   \n",
       "mean_test_score                   0.942857                   0.945055   \n",
       "std_test_score                    0.021308                   0.023051   \n",
       "rank_test_score                          2                          1   \n",
       "\n",
       "                                                 4                          5  \n",
       "mean_fit_time                             0.003799                   0.003799  \n",
       "std_fit_time                              0.000399                     0.0004  \n",
       "mean_score_time                           0.000401                   0.000401  \n",
       "std_score_time                            0.000492                   0.000492  \n",
       "param_max_depth                                NaN                        NaN  \n",
       "param_min_samples_split                         12                         15  \n",
       "params                   {'min_samples_split': 12}  {'min_samples_split': 15}  \n",
       "split0_test_score                         0.923077                   0.912088  \n",
       "split1_test_score                         0.901099                   0.901099  \n",
       "split2_test_score                         0.934066                   0.934066  \n",
       "split3_test_score                         0.956044                   0.945055  \n",
       "split4_test_score                         0.967033                   0.934066  \n",
       "mean_test_score                           0.936264                   0.925275  \n",
       "std_test_score                            0.023466                    0.01615  \n",
       "rank_test_score                                  5                          6  "
      ]
     },
     "execution_count": 51,
     "metadata": {},
     "output_type": "execute_result"
    }
   ],
   "source": [
    "pd.DataFrame(tuned_model.cv_results_).T"
   ]
  },
  {
   "cell_type": "code",
   "execution_count": 53,
   "id": "0fc3fc51",
   "metadata": {},
   "outputs": [
    {
     "data": {
      "text/plain": [
       "{'min_samples_split': 10}"
      ]
     },
     "execution_count": 53,
     "metadata": {},
     "output_type": "execute_result"
    }
   ],
   "source": [
    "tuned_model.best_params_"
   ]
  },
  {
   "cell_type": "code",
   "execution_count": 54,
   "id": "24bdccef",
   "metadata": {},
   "outputs": [],
   "source": [
    "best_model = tuned_model.best_estimator_"
   ]
  },
  {
   "cell_type": "code",
   "execution_count": 56,
   "id": "0d864bbc",
   "metadata": {},
   "outputs": [
    {
     "name": "stdout",
     "output_type": "stream",
     "text": [
      "0.9934065934065934\n",
      "0.956140350877193\n"
     ]
    }
   ],
   "source": [
    "print(best_model.score(x_train_val,t_train_val))\n",
    "print(best_model.score(x_test,t_test\n",
    "                    ))"
   ]
  },
  {
   "cell_type": "code",
   "execution_count": null,
   "id": "ae1091c6",
   "metadata": {},
   "outputs": [],
   "source": []
  }
 ],
 "metadata": {
  "kernelspec": {
   "display_name": "Python 3",
   "language": "python",
   "name": "python3"
  },
  "language_info": {
   "codemirror_mode": {
    "name": "ipython",
    "version": 3
   },
   "file_extension": ".py",
   "mimetype": "text/x-python",
   "name": "python",
   "nbconvert_exporter": "python",
   "pygments_lexer": "ipython3",
   "version": "3.8.10"
  }
 },
 "nbformat": 4,
 "nbformat_minor": 5
}
